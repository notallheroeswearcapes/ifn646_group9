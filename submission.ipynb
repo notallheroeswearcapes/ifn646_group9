{
 "cells": [
  {
   "cell_type": "code",
   "execution_count": 1,
   "metadata": {
    "collapsed": true,
    "pycharm": {
     "name": "#%%\n"
    }
   },
   "outputs": [],
   "source": [
    "from preprocess import load_data, inform"
   ]
  },
  {
   "cell_type": "code",
   "execution_count": 2,
   "outputs": [
    {
     "name": "stdout",
     "output_type": "stream",
     "text": [
      "Found 27 input files in directory 'raw_data'.\n",
      "1 of 5 columns contain possible outliers.\n",
      "1.37% of the data are considered a potential outlier and are replaced by the mean.\n",
      "Actiwatch activity counts    6.846204\n",
      "dtype: float64\n",
      "\n",
      "Missing values for columns:\n",
      "Percentage of missing values in merged sleep data: 0.26%\n",
      "\n",
      "Missing data per columns in percent:\n",
      "                 column_name  percent_missing\n",
      "0    Actiware classification         0.796966\n",
      "1  Actiwatch activity counts         0.429916\n",
      "2           Apple Watch ENMO         0.068949\n",
      "3                        day         0.000000\n",
      "4                       time         0.000000\n",
      "0.82% of the 49312 entries were dropped.\n",
      "Combined input data has 48909 entries after preprocessing.\n"
     ]
    }
   ],
   "source": [
    "data = load_data()"
   ],
   "metadata": {
    "collapsed": false,
    "pycharm": {
     "name": "#%%\n"
    }
   }
  },
  {
   "cell_type": "code",
   "execution_count": 3,
   "outputs": [
    {
     "name": "stdout",
     "output_type": "stream",
     "text": [
      "Shape of data: (48909, 5)\n",
      "There are 45023 0 values in column 'Actiware classification'.\n",
      "There are 48434 0 values in column 'Actiwatch activity counts'.\n"
     ]
    }
   ],
   "source": [
    "inform(data)"
   ],
   "metadata": {
    "collapsed": false,
    "pycharm": {
     "name": "#%%\n"
    }
   }
  },
  {
   "cell_type": "code",
   "execution_count": null,
   "outputs": [],
   "source": [],
   "metadata": {
    "collapsed": false,
    "pycharm": {
     "name": "#%%\n"
    }
   }
  }
 ],
 "metadata": {
  "kernelspec": {
   "display_name": "Python 3",
   "language": "python",
   "name": "python3"
  },
  "language_info": {
   "codemirror_mode": {
    "name": "ipython",
    "version": 2
   },
   "file_extension": ".py",
   "mimetype": "text/x-python",
   "name": "python",
   "nbconvert_exporter": "python",
   "pygments_lexer": "ipython2",
   "version": "2.7.6"
  }
 },
 "nbformat": 4,
 "nbformat_minor": 0
}