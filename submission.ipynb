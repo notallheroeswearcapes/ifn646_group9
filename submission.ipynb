{
 "cells": [
  {
   "cell_type": "markdown",
   "source": [
    "## Import of necessary packages"
   ],
   "metadata": {
    "collapsed": false,
    "pycharm": {
     "name": "#%% md\n"
    }
   }
  },
  {
   "cell_type": "code",
   "execution_count": 1,
   "outputs": [],
   "source": [
    "import matplotlib.pyplot as plt\n",
    "import numpy\n",
    "import seaborn as sns\n",
    "from preprocess import load_data, inform\n",
    "import warnings\n",
    "warnings.filterwarnings('ignore')"
   ],
   "metadata": {
    "collapsed": false,
    "pycharm": {
     "name": "#%%\n"
    }
   }
  },
  {
   "cell_type": "markdown",
   "source": [
    "## Load the data with specified strategy for missing data"
   ],
   "metadata": {
    "collapsed": false,
    "pycharm": {
     "name": "#%% md\n"
    }
   }
  },
  {
   "cell_type": "code",
   "execution_count": 2,
   "outputs": [
    {
     "name": "stdout",
     "output_type": "stream",
     "text": [
      "Found 27 input files in directory 'raw_data'.\n",
      "Full data has 49312 entries before preprocessing.\n",
      "\n",
      "===== Full data =====\n",
      "1 of 5 columns contain possible outliers.\n",
      "1.37% of the data are considered a potential outlier and are replaced by the mean.\n",
      "Actiwatch activity counts    6.846204\n",
      "dtype: float64\n",
      "\n",
      "Missing values for columns:\n",
      "Percentage of missing values in merged sleep data: 0.26%\n",
      "\n",
      "Missing data per columns in percent:\n",
      "                 column_name  percent_missing\n",
      "0    Actiware classification         0.796966\n",
      "1  Actiwatch activity counts         0.429916\n",
      "2           Apple Watch ENMO         0.068949\n",
      "3                        day         0.000000\n",
      "4                       time         0.000000\n",
      "==================\n",
      "\n",
      "Full data has 49312 entries after preprocessing.\n",
      "===== Training data =====\n",
      "1 of 5 columns contain possible outliers.\n",
      "1.29% of the data are considered a potential outlier and are replaced by the mean.\n",
      "Actiwatch activity counts    6.426332\n",
      "dtype: float64\n",
      "\n",
      "Missing values for columns:\n",
      "Percentage of missing values in merged sleep data: 0.28%\n",
      "\n",
      "Missing data per columns in percent:\n",
      "                 column_name  percent_missing\n",
      "0    Actiware classification         0.851957\n",
      "1  Actiwatch activity counts         0.467691\n",
      "2           Apple Watch ENMO         0.085954\n",
      "3                        day         0.000000\n",
      "4                       time         0.000000\n",
      "==================\n",
      "\n",
      "Training data has 39556 entries after preprocessing.\n",
      "===== Test data =====\n",
      "1 of 5 columns contain possible outliers.\n",
      "1.46% of the data are considered a potential outlier and are replaced by the mean.\n",
      "Actiwatch activity counts    7.319305\n",
      "dtype: float64\n",
      "\n",
      "Missing values for columns:\n",
      "Percentage of missing values in merged sleep data: 0.19%\n",
      "\n",
      "Missing data per columns in percent:\n",
      "                 column_name  percent_missing\n",
      "0    Actiware classification         0.629003\n",
      "1  Actiwatch activity counts         0.308783\n",
      "2           Apple Watch ENMO         0.000000\n",
      "3                        day         0.000000\n",
      "4                       time         0.000000\n",
      "==================\n",
      "\n",
      "Test data has 8744 entries after preprocessing.\n"
     ]
    }
   ],
   "source": [
    "full, train, test = load_data()"
   ],
   "metadata": {
    "collapsed": false,
    "pycharm": {
     "name": "#%%\n"
    }
   }
  },
  {
   "cell_type": "markdown",
   "source": [
    "## Print statistics of the datasets"
   ],
   "metadata": {
    "collapsed": false,
    "pycharm": {
     "name": "#%% md\n"
    }
   }
  },
  {
   "cell_type": "code",
   "execution_count": 3,
   "outputs": [
    {
     "name": "stdout",
     "output_type": "stream",
     "text": [
      "Full data:\n",
      "Shape of data: (49312, 5)\n",
      "There are 91.30% 0 values in column 'Actiware classification'.\n",
      "There are 91.74 0 values in column 'Actiwatch activity counts'.\n",
      "Training data:\n",
      "Shape of data: (39556, 5)\n",
      "There are 91.82% 0 values in column 'Actiware classification'.\n",
      "There are 92.17 0 values in column 'Actiwatch activity counts'.\n",
      "Test data:\n",
      "Shape of data: (8744, 5)\n",
      "There are 90.86% 0 values in column 'Actiware classification'.\n",
      "There are 91.21 0 values in column 'Actiwatch activity counts'.\n"
     ]
    }
   ],
   "source": [
    "print(\"Full data:\")\n",
    "inform(full)\n",
    "print(\"Training data:\")\n",
    "inform(train)\n",
    "print(\"Test data:\")\n",
    "inform(test)"
   ],
   "metadata": {
    "collapsed": false,
    "pycharm": {
     "name": "#%%\n"
    }
   }
  },
  {
   "cell_type": "markdown",
   "source": [
    "## Gain overview of data"
   ],
   "metadata": {
    "collapsed": false,
    "pycharm": {
     "name": "#%% md\n"
    }
   }
  },
  {
   "cell_type": "code",
   "execution_count": null,
   "outputs": [],
   "source": [
    "sns.displot(full, x=\"Actiwatch activity counts\")"
   ],
   "metadata": {
    "collapsed": false,
    "pycharm": {
     "name": "#%%\n"
    }
   }
  },
  {
   "cell_type": "code",
   "execution_count": null,
   "outputs": [],
   "source": [
    "## Function to calculate total counts according to Philips’ Actiware software specification"
   ],
   "metadata": {
    "collapsed": false,
    "pycharm": {
     "name": "#%%\n"
    }
   }
  },
  {
   "cell_type": "code",
   "execution_count": null,
   "outputs": [],
   "source": [
    "def total_counts(df, src_col, dest_col):\n",
    "    day = df['day'].values\n",
    "    cts = df[src_col].values    \n",
    "    total = []\n",
    "    for i in range(len(cts)):\n",
    "        div_by_25_sum = 0\n",
    "        div_by_5_sum = 0\n",
    "        for j in range(-8, -4):\n",
    "            if i + j >= 0 and day[i + j] == day[i]:\n",
    "                div_by_25_sum += cts[i + j]\n",
    "        for j in range(-4, 0):\n",
    "            if i + j >= 0 and day[i + j] == day[i]:\n",
    "                div_by_5_sum += cts[i + j]\n",
    "        for j in range(1, 5):\n",
    "            if i + j < len(cts) and day[i + j] == day[i]:\n",
    "                div_by_5_sum += cts[i + j]\n",
    "        for j in range(5, 9):\n",
    "            if i + j < len(cts) and day[i + j] == day[i]:\n",
    "                div_by_25_sum += cts[i + j]\n",
    "        calculation = 0.04 * div_by_25_sum + 0.20 * div_by_5_sum + 4.00 * cts[i]\n",
    "        total.append(calculation)\n",
    "    df[dest_col] = total"
   ],
   "metadata": {
    "collapsed": false,
    "pycharm": {
     "name": "#%%\n"
    }
   }
  },
  {
   "cell_type": "code",
   "execution_count": null,
   "outputs": [],
   "source": [
    "# call total_counts function and add a column depicting total counts from Actiwatch\n",
    "total_counts(train, 'Actiwatch activity counts', 'Actiwatch Total Counts')\n",
    "\n",
    "# print overview of training dataset\n",
    "train"
   ],
   "metadata": {
    "collapsed": false,
    "pycharm": {
     "name": "#%%\n"
    }
   }
  },
  {
   "cell_type": "markdown",
   "source": [
    "## Helper function that classifies into sleep/wake according to threshold 40"
   ],
   "metadata": {
    "collapsed": false,
    "pycharm": {
     "name": "#%% md\n"
    }
   }
  },
  {
   "cell_type": "code",
   "execution_count": null,
   "outputs": [],
   "source": [
    "def classify(row, col):\n",
    "    if row[col] > 40:\n",
    "        return 1\n",
    "    else:\n",
    "        return 0"
   ],
   "metadata": {
    "collapsed": false,
    "pycharm": {
     "name": "#%%\n"
    }
   }
  },
  {
   "cell_type": "markdown",
   "source": [
    "## Perform classification of actiwatch total counts\n"
   ],
   "metadata": {
    "collapsed": false,
    "pycharm": {
     "name": "#%% md\n"
    }
   }
  },
  {
   "cell_type": "code",
   "execution_count": null,
   "outputs": [],
   "source": [
    "train['Actiware classification calculated'] = train.apply(lambda x: classify(x, 'Actiwatch Total Counts'), axis=1)\n",
    "\n",
    "# print first 30 items\n",
    "train.head(30)"
   ],
   "metadata": {
    "collapsed": false,
    "pycharm": {
     "name": "#%%\n"
    }
   }
  },
  {
   "cell_type": "markdown",
   "source": [
    "## Print statistics of classification"
   ],
   "metadata": {
    "collapsed": false,
    "pycharm": {
     "name": "#%% md\n"
    }
   }
  },
  {
   "cell_type": "code",
   "execution_count": null,
   "outputs": [],
   "source": [
    "classification_stats = train.groupby([\"Actiware classification\", \"Actiware classification calculated\"]).size()\n",
    "print(classification_stats)"
   ],
   "metadata": {
    "collapsed": false,
    "pycharm": {
     "name": "#%%\n"
    }
   }
  },
  {
   "cell_type": "markdown",
   "source": [
    "## Draw scatter plot from Apple Watch and Actiwatch"
   ],
   "metadata": {
    "collapsed": false,
    "pycharm": {
     "name": "#%% md\n"
    }
   }
  },
  {
   "cell_type": "code",
   "execution_count": null,
   "outputs": [],
   "source": [
    "train.plot.scatter(x='Apple Watch ENMO', y='Actiwatch activity counts')"
   ],
   "metadata": {
    "collapsed": false,
    "pycharm": {
     "name": "#%%\n"
    }
   }
  },
  {
   "cell_type": "markdown",
   "source": [
    "## Fit linear Regression Model"
   ],
   "metadata": {
    "collapsed": false,
    "pycharm": {
     "name": "#%% md\n"
    }
   }
  },
  {
   "cell_type": "code",
   "execution_count": null,
   "outputs": [],
   "source": [
    "# declare x and y for the model\n",
    "x = train['Apple Watch ENMO']\n",
    "y = train['Actiwatch activity counts']\n",
    "\n",
    "# fit linear model\n",
    "model = numpy.poly1d(numpy.polyfit(x, y, 1))\n",
    "\n",
    "# create linspace to draw scatter plot in next step\n",
    "line = numpy.linspace(0, 3.5, 1000)\n",
    "\n",
    "# scatter plot\n",
    "plt.scatter(x, y)\n",
    "\n",
    "# draw regression graph into plot\n",
    "plt.plot(line, model(line))\n",
    "\n",
    "print('The function of the regression line is:\\nf(x) =', str(model).strip())"
   ],
   "metadata": {
    "collapsed": false,
    "pycharm": {
     "name": "#%%\n"
    }
   }
  },
  {
   "cell_type": "markdown",
   "source": [
    "## Predict if sleep or awake for test data"
   ],
   "metadata": {
    "collapsed": false,
    "pycharm": {
     "name": "#%% md\n"
    }
   }
  },
  {
   "cell_type": "code",
   "execution_count": null,
   "outputs": [],
   "source": [
    "# predict activity counts\n",
    "test['Predicted activity counts'] = model(test['Apple Watch ENMO'])\n",
    "\n",
    "# calculate total counts from prediction\n",
    "total_counts(test, 'Predicted activity counts', 'Predicted Total Counts')\n",
    "\n",
    "# print first 15 rows\n",
    "test.head(15)"
   ],
   "metadata": {
    "collapsed": false,
    "pycharm": {
     "name": "#%%\n"
    }
   }
  },
  {
   "cell_type": "code",
   "execution_count": null,
   "outputs": [],
   "source": [
    "# classify\n",
    "test['Predicted wake'] = test.apply(lambda x: classify(x, 'Predicted Total Counts'), axis=1)\n",
    "\n",
    "test"
   ],
   "metadata": {
    "collapsed": false,
    "pycharm": {
     "name": "#%%\n"
    }
   }
  },
  {
   "cell_type": "markdown",
   "source": [
    "## Print statistics of classification"
   ],
   "metadata": {
    "collapsed": false,
    "pycharm": {
     "name": "#%% md\n"
    }
   }
  },
  {
   "cell_type": "code",
   "execution_count": null,
   "outputs": [],
   "source": [
    "classification_stats = test.groupby([\"Actiware classification\", \"Predicted wake\"]).size()\n",
    "print(classification_stats)"
   ],
   "metadata": {
    "collapsed": false,
    "pycharm": {
     "name": "#%%\n"
    }
   }
  },
  {
   "cell_type": "code",
   "execution_count": 3,
   "metadata": {
    "pycharm": {
     "name": "#%%\n"
    }
   },
   "outputs": [
    {
     "name": "stdout",
     "output_type": "stream",
     "text": [
      "Full data:\n",
      "Shape of data: (49312, 5)\n",
      "There are 92.10% 0 values in column 'Actiware classification'.\n",
      "There are 92.17 0 values in column 'Actiwatch activity counts'.\n",
      "Training data:\n",
      "Shape of data: (39556, 5)\n",
      "There are 92.67% 0 values in column 'Actiware classification'.\n",
      "There are 92.64 0 values in column 'Actiwatch activity counts'.\n",
      "Test data:\n",
      "Shape of data: (6584, 5)\n",
      "There are 90.69% 0 values in column 'Actiware classification'.\n",
      "There are 90.87 0 values in column 'Actiwatch activity counts'.\n",
      "Validation data:\n",
      "Shape of data: (2160, 5)\n",
      "There are 93.94% 0 values in column 'Actiware classification'.\n",
      "There are 93.47 0 values in column 'Actiwatch activity counts'.\n"
     ]
    }
   ],
   "source": [
    "print(\"Full data:\")\n",
    "inform(full)\n",
    "print(\"Training data:\")\n",
    "inform(train)\n",
    "print(\"Test data:\")\n",
    "inform(test)\n",
    "print(\"Validation data:\")\n",
    "inform(val)"
   ]
  },
  {
   "cell_type": "markdown",
   "metadata": {},
   "source": [
    "## Gain overview of data"
   ]
  },
  {
   "cell_type": "code",
   "execution_count": 4,
   "metadata": {
    "pycharm": {
     "name": "#%%\n"
    }
   },
   "outputs": [
    {
     "data": {
      "text/plain": [
       "<seaborn.axisgrid.FacetGrid at 0x7f4d85707a90>"
      ]
     },
     "execution_count": 4,
     "metadata": {},
     "output_type": "execute_result"
    },
    {
     "data": {
      "image/png": "[encoded data removed]",
      "text/plain": [
       "<Figure size 360x360 with 1 Axes>"
      ]
     },
     "metadata": {
      "needs_background": "light"
     },
     "output_type": "display_data"
    }
   ],
   "source": [
    "sns.displot(full, x=\"Actiwatch activity counts\")"
   ]
  },
  {
   "cell_type": "markdown",
   "metadata": {
    "pycharm": {
     "name": "#%%\n"
    }
   },
   "source": [
    "## Function to calculate total counts according to Philips’ Actiware software specification"
   ]
  },
  {
   "cell_type": "code",
   "execution_count": 5,
   "metadata": {},
   "outputs": [],
   "source": [
    "def total_counts(df, src_col, dest_col):\n",
    "    day = df['day'].values\n",
    "    cts = df[src_col].values    \n",
    "    total = []\n",
    "    for i in range(len(cts)):\n",
    "        div_by_25_sum = 0\n",
    "        div_by_5_sum = 0\n",
    "        for j in range(-8, -4):\n",
    "            if i + j >= 0 and day[i + j] == day[i]:\n",
    "                div_by_25_sum += cts[i + j]\n",
    "        for j in range(-4, 0):\n",
    "            if i + j >= 0 and day[i + j] == day[i]:\n",
    "                div_by_5_sum += cts[i + j]\n",
    "        for j in range(1, 5):\n",
    "            if i + j < len(cts) and day[i + j] == day[i]:\n",
    "                div_by_5_sum += cts[i + j]\n",
    "        for j in range(5, 9):\n",
    "            if i + j < len(cts) and day[i + j] == day[i]:\n",
    "                div_by_25_sum += cts[i + j]\n",
    "        calculation = 0.04 * div_by_25_sum + 0.20 * div_by_5_sum + 4.00 * cts[i]\n",
    "        total.append(calculation)\n",
    "    df[dest_col] = total"
   ]
  },
  {
   "cell_type": "code",
   "execution_count": 6,
   "metadata": {},
   "outputs": [
    {
     "data": {
      "text/html": [
       "<div>\n",
       "<style scoped>\n",
       "    .dataframe tbody tr th:only-of-type {\n",
       "        vertical-align: middle;\n",
       "    }\n",
       "\n",
       "    .dataframe tbody tr th {\n",
       "        vertical-align: top;\n",
       "    }\n",
       "\n",
       "    .dataframe thead th {\n",
       "        text-align: right;\n",
       "    }\n",
       "</style>\n",
       "<table border=\"1\" class=\"dataframe\">\n",
       "  <thead>\n",
       "    <tr style=\"text-align: right;\">\n",
       "      <th></th>\n",
       "      <th>Actiwatch activity counts</th>\n",
       "      <th>Actiware classification</th>\n",
       "      <th>Apple Watch ENMO</th>\n",
       "      <th>day</th>\n",
       "      <th>time</th>\n",
       "      <th>Actiwatch Total Counts</th>\n",
       "    </tr>\n",
       "  </thead>\n",
       "  <tbody>\n",
       "    <tr>\n",
       "      <th>0</th>\n",
       "      <td>0.0</td>\n",
       "      <td>0.0</td>\n",
       "      <td>0.209673</td>\n",
       "      <td>22</td>\n",
       "      <td>20:58:00</td>\n",
       "      <td>114.64</td>\n",
       "    </tr>\n",
       "    <tr>\n",
       "      <th>1</th>\n",
       "      <td>109.0</td>\n",
       "      <td>0.0</td>\n",
       "      <td>0.227648</td>\n",
       "      <td>22</td>\n",
       "      <td>20:58:15</td>\n",
       "      <td>555.20</td>\n",
       "    </tr>\n",
       "    <tr>\n",
       "      <th>2</th>\n",
       "      <td>170.0</td>\n",
       "      <td>0.0</td>\n",
       "      <td>0.217089</td>\n",
       "      <td>22</td>\n",
       "      <td>20:58:30</td>\n",
       "      <td>812.40</td>\n",
       "    </tr>\n",
       "    <tr>\n",
       "      <th>3</th>\n",
       "      <td>91.0</td>\n",
       "      <td>0.0</td>\n",
       "      <td>0.267528</td>\n",
       "      <td>22</td>\n",
       "      <td>20:58:45</td>\n",
       "      <td>548.68</td>\n",
       "    </tr>\n",
       "    <tr>\n",
       "      <th>4</th>\n",
       "      <td>101.0</td>\n",
       "      <td>0.0</td>\n",
       "      <td>0.222397</td>\n",
       "      <td>22</td>\n",
       "      <td>20:59:00</td>\n",
       "      <td>607.12</td>\n",
       "    </tr>\n",
       "    <tr>\n",
       "      <th>...</th>\n",
       "      <td>...</td>\n",
       "      <td>...</td>\n",
       "      <td>...</td>\n",
       "      <td>...</td>\n",
       "      <td>...</td>\n",
       "      <td>...</td>\n",
       "    </tr>\n",
       "    <tr>\n",
       "      <th>49307</th>\n",
       "      <td>270.0</td>\n",
       "      <td>1.0</td>\n",
       "      <td>0.281130</td>\n",
       "      <td>1</td>\n",
       "      <td>07:25:45</td>\n",
       "      <td>1417.16</td>\n",
       "    </tr>\n",
       "    <tr>\n",
       "      <th>49308</th>\n",
       "      <td>105.0</td>\n",
       "      <td>1.0</td>\n",
       "      <td>0.086050</td>\n",
       "      <td>1</td>\n",
       "      <td>07:26:00</td>\n",
       "      <td>752.84</td>\n",
       "    </tr>\n",
       "    <tr>\n",
       "      <th>49309</th>\n",
       "      <td>149.0</td>\n",
       "      <td>1.0</td>\n",
       "      <td>0.180595</td>\n",
       "      <td>1</td>\n",
       "      <td>07:26:15</td>\n",
       "      <td>858.08</td>\n",
       "    </tr>\n",
       "    <tr>\n",
       "      <th>49310</th>\n",
       "      <td>182.0</td>\n",
       "      <td>0.0</td>\n",
       "      <td>0.146303</td>\n",
       "      <td>1</td>\n",
       "      <td>07:26:30</td>\n",
       "      <td>942.04</td>\n",
       "    </tr>\n",
       "    <tr>\n",
       "      <th>49311</th>\n",
       "      <td>237.0</td>\n",
       "      <td>0.0</td>\n",
       "      <td>0.163973</td>\n",
       "      <td>1</td>\n",
       "      <td>07:26:45</td>\n",
       "      <td>1126.16</td>\n",
       "    </tr>\n",
       "  </tbody>\n",
       "</table>\n",
       "<p>39556 rows × 6 columns</p>\n",
       "</div>"
      ],
      "text/plain": [
       "       Actiwatch activity counts  Actiware classification  Apple Watch ENMO  \\\n",
       "0                            0.0                      0.0          0.209673   \n",
       "1                          109.0                      0.0          0.227648   \n",
       "2                          170.0                      0.0          0.217089   \n",
       "3                           91.0                      0.0          0.267528   \n",
       "4                          101.0                      0.0          0.222397   \n",
       "...                          ...                      ...               ...   \n",
       "49307                      270.0                      1.0          0.281130   \n",
       "49308                      105.0                      1.0          0.086050   \n",
       "49309                      149.0                      1.0          0.180595   \n",
       "49310                      182.0                      0.0          0.146303   \n",
       "49311                      237.0                      0.0          0.163973   \n",
       "\n",
       "       day      time  Actiwatch Total Counts  \n",
       "0       22  20:58:00                  114.64  \n",
       "1       22  20:58:15                  555.20  \n",
       "2       22  20:58:30                  812.40  \n",
       "3       22  20:58:45                  548.68  \n",
       "4       22  20:59:00                  607.12  \n",
       "...    ...       ...                     ...  \n",
       "49307    1  07:25:45                 1417.16  \n",
       "49308    1  07:26:00                  752.84  \n",
       "49309    1  07:26:15                  858.08  \n",
       "49310    1  07:26:30                  942.04  \n",
       "49311    1  07:26:45                 1126.16  \n",
       "\n",
       "[39556 rows x 6 columns]"
      ]
     },
     "execution_count": 6,
     "metadata": {},
     "output_type": "execute_result"
    }
   ],
   "source": [
    "# call total_counts function and add a column depicting total counts from Actiwatch\n",
    "total_counts(train, 'Actiwatch activity counts', 'Actiwatch Total Counts')\n",
    "\n",
    "# print overview of training dataset\n",
    "train"
   ]
  },
  {
   "cell_type": "markdown",
   "metadata": {},
   "source": [
    "## Helper function that classifies into sleep/wake according to threshold 40"
   ]
  },
  {
   "cell_type": "code",
   "execution_count": 7,
   "metadata": {},
   "outputs": [],
   "source": [
    "def classify(row, col):\n",
    "    if row[col] > 40:\n",
    "        return 1\n",
    "    else:\n",
    "        return 0"
   ]
  },
  {
   "cell_type": "markdown",
   "metadata": {},
   "source": [
    "## Perform classification of actiwatch total counts\n"
   ]
  },
  {
   "cell_type": "code",
   "execution_count": 8,
   "metadata": {
    "scrolled": false
   },
   "outputs": [
    {
     "data": {
      "text/html": [
       "<div>\n",
       "<style scoped>\n",
       "    .dataframe tbody tr th:only-of-type {\n",
       "        vertical-align: middle;\n",
       "    }\n",
       "\n",
       "    .dataframe tbody tr th {\n",
       "        vertical-align: top;\n",
       "    }\n",
       "\n",
       "    .dataframe thead th {\n",
       "        text-align: right;\n",
       "    }\n",
       "</style>\n",
       "<table border=\"1\" class=\"dataframe\">\n",
       "  <thead>\n",
       "    <tr style=\"text-align: right;\">\n",
       "      <th></th>\n",
       "      <th>Actiwatch activity counts</th>\n",
       "      <th>Actiware classification</th>\n",
       "      <th>Apple Watch ENMO</th>\n",
       "      <th>day</th>\n",
       "      <th>time</th>\n",
       "      <th>Actiwatch Total Counts</th>\n",
       "      <th>Actiware classification calculated</th>\n",
       "    </tr>\n",
       "  </thead>\n",
       "  <tbody>\n",
       "    <tr>\n",
       "      <th>0</th>\n",
       "      <td>0.0</td>\n",
       "      <td>0.0</td>\n",
       "      <td>0.209673</td>\n",
       "      <td>22</td>\n",
       "      <td>20:58:00</td>\n",
       "      <td>114.64</td>\n",
       "      <td>1</td>\n",
       "    </tr>\n",
       "    <tr>\n",
       "      <th>1</th>\n",
       "      <td>109.0</td>\n",
       "      <td>0.0</td>\n",
       "      <td>0.227648</td>\n",
       "      <td>22</td>\n",
       "      <td>20:58:15</td>\n",
       "      <td>555.20</td>\n",
       "      <td>1</td>\n",
       "    </tr>\n",
       "    <tr>\n",
       "      <th>2</th>\n",
       "      <td>170.0</td>\n",
       "      <td>0.0</td>\n",
       "      <td>0.217089</td>\n",
       "      <td>22</td>\n",
       "      <td>20:58:30</td>\n",
       "      <td>812.40</td>\n",
       "      <td>1</td>\n",
       "    </tr>\n",
       "    <tr>\n",
       "      <th>3</th>\n",
       "      <td>91.0</td>\n",
       "      <td>0.0</td>\n",
       "      <td>0.267528</td>\n",
       "      <td>22</td>\n",
       "      <td>20:58:45</td>\n",
       "      <td>548.68</td>\n",
       "      <td>1</td>\n",
       "    </tr>\n",
       "    <tr>\n",
       "      <th>4</th>\n",
       "      <td>101.0</td>\n",
       "      <td>0.0</td>\n",
       "      <td>0.222397</td>\n",
       "      <td>22</td>\n",
       "      <td>20:59:00</td>\n",
       "      <td>607.12</td>\n",
       "      <td>1</td>\n",
       "    </tr>\n",
       "    <tr>\n",
       "      <th>5</th>\n",
       "      <td>125.0</td>\n",
       "      <td>1.0</td>\n",
       "      <td>0.262205</td>\n",
       "      <td>22</td>\n",
       "      <td>20:59:15</td>\n",
       "      <td>727.64</td>\n",
       "      <td>1</td>\n",
       "    </tr>\n",
       "    <tr>\n",
       "      <th>6</th>\n",
       "      <td>105.0</td>\n",
       "      <td>1.0</td>\n",
       "      <td>0.283417</td>\n",
       "      <td>22</td>\n",
       "      <td>20:59:30</td>\n",
       "      <td>673.96</td>\n",
       "      <td>1</td>\n",
       "    </tr>\n",
       "    <tr>\n",
       "      <th>7</th>\n",
       "      <td>176.0</td>\n",
       "      <td>1.0</td>\n",
       "      <td>0.314253</td>\n",
       "      <td>22</td>\n",
       "      <td>20:59:45</td>\n",
       "      <td>954.84</td>\n",
       "      <td>1</td>\n",
       "    </tr>\n",
       "    <tr>\n",
       "      <th>8</th>\n",
       "      <td>105.0</td>\n",
       "      <td>1.0</td>\n",
       "      <td>0.328872</td>\n",
       "      <td>22</td>\n",
       "      <td>21:00:00</td>\n",
       "      <td>689.72</td>\n",
       "      <td>1</td>\n",
       "    </tr>\n",
       "    <tr>\n",
       "      <th>9</th>\n",
       "      <td>159.0</td>\n",
       "      <td>1.0</td>\n",
       "      <td>0.444264</td>\n",
       "      <td>22</td>\n",
       "      <td>21:00:15</td>\n",
       "      <td>897.32</td>\n",
       "      <td>1</td>\n",
       "    </tr>\n",
       "    <tr>\n",
       "      <th>10</th>\n",
       "      <td>215.0</td>\n",
       "      <td>1.0</td>\n",
       "      <td>0.521921</td>\n",
       "      <td>22</td>\n",
       "      <td>21:00:30</td>\n",
       "      <td>1110.12</td>\n",
       "      <td>1</td>\n",
       "    </tr>\n",
       "    <tr>\n",
       "      <th>11</th>\n",
       "      <td>208.0</td>\n",
       "      <td>1.0</td>\n",
       "      <td>0.515725</td>\n",
       "      <td>22</td>\n",
       "      <td>21:00:45</td>\n",
       "      <td>1095.32</td>\n",
       "      <td>1</td>\n",
       "    </tr>\n",
       "    <tr>\n",
       "      <th>12</th>\n",
       "      <td>91.0</td>\n",
       "      <td>1.0</td>\n",
       "      <td>0.318492</td>\n",
       "      <td>22</td>\n",
       "      <td>21:01:00</td>\n",
       "      <td>637.72</td>\n",
       "      <td>1</td>\n",
       "    </tr>\n",
       "    <tr>\n",
       "      <th>13</th>\n",
       "      <td>97.0</td>\n",
       "      <td>1.0</td>\n",
       "      <td>0.348385</td>\n",
       "      <td>22</td>\n",
       "      <td>21:01:15</td>\n",
       "      <td>651.84</td>\n",
       "      <td>1</td>\n",
       "    </tr>\n",
       "    <tr>\n",
       "      <th>14</th>\n",
       "      <td>134.0</td>\n",
       "      <td>1.0</td>\n",
       "      <td>0.301678</td>\n",
       "      <td>22</td>\n",
       "      <td>21:01:30</td>\n",
       "      <td>773.68</td>\n",
       "      <td>1</td>\n",
       "    </tr>\n",
       "    <tr>\n",
       "      <th>15</th>\n",
       "      <td>125.0</td>\n",
       "      <td>1.0</td>\n",
       "      <td>0.292101</td>\n",
       "      <td>22</td>\n",
       "      <td>21:01:45</td>\n",
       "      <td>762.48</td>\n",
       "      <td>1</td>\n",
       "    </tr>\n",
       "    <tr>\n",
       "      <th>16</th>\n",
       "      <td>117.0</td>\n",
       "      <td>1.0</td>\n",
       "      <td>0.306116</td>\n",
       "      <td>22</td>\n",
       "      <td>21:02:00</td>\n",
       "      <td>692.08</td>\n",
       "      <td>1</td>\n",
       "    </tr>\n",
       "    <tr>\n",
       "      <th>17</th>\n",
       "      <td>76.0</td>\n",
       "      <td>1.0</td>\n",
       "      <td>0.273415</td>\n",
       "      <td>22</td>\n",
       "      <td>21:02:15</td>\n",
       "      <td>517.52</td>\n",
       "      <td>1</td>\n",
       "    </tr>\n",
       "    <tr>\n",
       "      <th>18</th>\n",
       "      <td>73.0</td>\n",
       "      <td>1.0</td>\n",
       "      <td>0.242683</td>\n",
       "      <td>22</td>\n",
       "      <td>21:02:30</td>\n",
       "      <td>484.24</td>\n",
       "      <td>1</td>\n",
       "    </tr>\n",
       "    <tr>\n",
       "      <th>19</th>\n",
       "      <td>385.0</td>\n",
       "      <td>1.0</td>\n",
       "      <td>0.276460</td>\n",
       "      <td>22</td>\n",
       "      <td>21:02:45</td>\n",
       "      <td>1639.80</td>\n",
       "      <td>1</td>\n",
       "    </tr>\n",
       "    <tr>\n",
       "      <th>20</th>\n",
       "      <td>2.0</td>\n",
       "      <td>1.0</td>\n",
       "      <td>0.004816</td>\n",
       "      <td>22</td>\n",
       "      <td>21:03:00</td>\n",
       "      <td>156.08</td>\n",
       "      <td>1</td>\n",
       "    </tr>\n",
       "    <tr>\n",
       "      <th>21</th>\n",
       "      <td>0.0</td>\n",
       "      <td>1.0</td>\n",
       "      <td>0.002099</td>\n",
       "      <td>22</td>\n",
       "      <td>21:03:15</td>\n",
       "      <td>126.12</td>\n",
       "      <td>1</td>\n",
       "    </tr>\n",
       "    <tr>\n",
       "      <th>22</th>\n",
       "      <td>0.0</td>\n",
       "      <td>1.0</td>\n",
       "      <td>0.002393</td>\n",
       "      <td>22</td>\n",
       "      <td>21:03:30</td>\n",
       "      <td>110.08</td>\n",
       "      <td>1</td>\n",
       "    </tr>\n",
       "    <tr>\n",
       "      <th>23</th>\n",
       "      <td>0.0</td>\n",
       "      <td>1.0</td>\n",
       "      <td>0.002089</td>\n",
       "      <td>22</td>\n",
       "      <td>21:03:45</td>\n",
       "      <td>93.04</td>\n",
       "      <td>1</td>\n",
       "    </tr>\n",
       "    <tr>\n",
       "      <th>24</th>\n",
       "      <td>0.0</td>\n",
       "      <td>0.0</td>\n",
       "      <td>0.002052</td>\n",
       "      <td>22</td>\n",
       "      <td>21:04:00</td>\n",
       "      <td>26.44</td>\n",
       "      <td>0</td>\n",
       "    </tr>\n",
       "    <tr>\n",
       "      <th>25</th>\n",
       "      <td>0.0</td>\n",
       "      <td>0.0</td>\n",
       "      <td>0.001939</td>\n",
       "      <td>22</td>\n",
       "      <td>21:04:15</td>\n",
       "      <td>21.44</td>\n",
       "      <td>0</td>\n",
       "    </tr>\n",
       "    <tr>\n",
       "      <th>26</th>\n",
       "      <td>0.0</td>\n",
       "      <td>0.0</td>\n",
       "      <td>0.001993</td>\n",
       "      <td>22</td>\n",
       "      <td>21:04:30</td>\n",
       "      <td>18.40</td>\n",
       "      <td>0</td>\n",
       "    </tr>\n",
       "    <tr>\n",
       "      <th>27</th>\n",
       "      <td>0.0</td>\n",
       "      <td>0.0</td>\n",
       "      <td>0.002051</td>\n",
       "      <td>22</td>\n",
       "      <td>21:04:45</td>\n",
       "      <td>15.48</td>\n",
       "      <td>0</td>\n",
       "    </tr>\n",
       "    <tr>\n",
       "      <th>28</th>\n",
       "      <td>0.0</td>\n",
       "      <td>0.0</td>\n",
       "      <td>0.001956</td>\n",
       "      <td>22</td>\n",
       "      <td>21:05:00</td>\n",
       "      <td>0.08</td>\n",
       "      <td>0</td>\n",
       "    </tr>\n",
       "    <tr>\n",
       "      <th>29</th>\n",
       "      <td>0.0</td>\n",
       "      <td>0.0</td>\n",
       "      <td>0.002015</td>\n",
       "      <td>22</td>\n",
       "      <td>21:05:15</td>\n",
       "      <td>0.00</td>\n",
       "      <td>0</td>\n",
       "    </tr>\n",
       "  </tbody>\n",
       "</table>\n",
       "</div>"
      ],
      "text/plain": [
       "    Actiwatch activity counts  Actiware classification  Apple Watch ENMO  day  \\\n",
       "0                         0.0                      0.0          0.209673   22   \n",
       "1                       109.0                      0.0          0.227648   22   \n",
       "2                       170.0                      0.0          0.217089   22   \n",
       "3                        91.0                      0.0          0.267528   22   \n",
       "4                       101.0                      0.0          0.222397   22   \n",
       "5                       125.0                      1.0          0.262205   22   \n",
       "6                       105.0                      1.0          0.283417   22   \n",
       "7                       176.0                      1.0          0.314253   22   \n",
       "8                       105.0                      1.0          0.328872   22   \n",
       "9                       159.0                      1.0          0.444264   22   \n",
       "10                      215.0                      1.0          0.521921   22   \n",
       "11                      208.0                      1.0          0.515725   22   \n",
       "12                       91.0                      1.0          0.318492   22   \n",
       "13                       97.0                      1.0          0.348385   22   \n",
       "14                      134.0                      1.0          0.301678   22   \n",
       "15                      125.0                      1.0          0.292101   22   \n",
       "16                      117.0                      1.0          0.306116   22   \n",
       "17                       76.0                      1.0          0.273415   22   \n",
       "18                       73.0                      1.0          0.242683   22   \n",
       "19                      385.0                      1.0          0.276460   22   \n",
       "20                        2.0                      1.0          0.004816   22   \n",
       "21                        0.0                      1.0          0.002099   22   \n",
       "22                        0.0                      1.0          0.002393   22   \n",
       "23                        0.0                      1.0          0.002089   22   \n",
       "24                        0.0                      0.0          0.002052   22   \n",
       "25                        0.0                      0.0          0.001939   22   \n",
       "26                        0.0                      0.0          0.001993   22   \n",
       "27                        0.0                      0.0          0.002051   22   \n",
       "28                        0.0                      0.0          0.001956   22   \n",
       "29                        0.0                      0.0          0.002015   22   \n",
       "\n",
       "        time  Actiwatch Total Counts  Actiware classification calculated  \n",
       "0   20:58:00                  114.64                                   1  \n",
       "1   20:58:15                  555.20                                   1  \n",
       "2   20:58:30                  812.40                                   1  \n",
       "3   20:58:45                  548.68                                   1  \n",
       "4   20:59:00                  607.12                                   1  \n",
       "5   20:59:15                  727.64                                   1  \n",
       "6   20:59:30                  673.96                                   1  \n",
       "7   20:59:45                  954.84                                   1  \n",
       "8   21:00:00                  689.72                                   1  \n",
       "9   21:00:15                  897.32                                   1  \n",
       "10  21:00:30                 1110.12                                   1  \n",
       "11  21:00:45                 1095.32                                   1  \n",
       "12  21:01:00                  637.72                                   1  \n",
       "13  21:01:15                  651.84                                   1  \n",
       "14  21:01:30                  773.68                                   1  \n",
       "15  21:01:45                  762.48                                   1  \n",
       "16  21:02:00                  692.08                                   1  \n",
       "17  21:02:15                  517.52                                   1  \n",
       "18  21:02:30                  484.24                                   1  \n",
       "19  21:02:45                 1639.80                                   1  \n",
       "20  21:03:00                  156.08                                   1  \n",
       "21  21:03:15                  126.12                                   1  \n",
       "22  21:03:30                  110.08                                   1  \n",
       "23  21:03:45                   93.04                                   1  \n",
       "24  21:04:00                   26.44                                   0  \n",
       "25  21:04:15                   21.44                                   0  \n",
       "26  21:04:30                   18.40                                   0  \n",
       "27  21:04:45                   15.48                                   0  \n",
       "28  21:05:00                    0.08                                   0  \n",
       "29  21:05:15                    0.00                                   0  "
      ]
     },
     "execution_count": 8,
     "metadata": {},
     "output_type": "execute_result"
    }
   ],
   "source": [
    "train['Actiware classification calculated'] = train.apply(lambda x: classify(x, 'Actiwatch Total Counts'), axis=1)\n",
    "\n",
    "# print first 30 items\n",
    "train.head(30)"
   ]
  },
  {
   "cell_type": "markdown",
   "metadata": {},
   "source": [
    "## Print statistics of classification"
   ]
  },
  {
   "cell_type": "code",
   "execution_count": 9,
   "metadata": {},
   "outputs": [
    {
     "name": "stdout",
     "output_type": "stream",
     "text": [
      "Actiware classification  Actiware classification calculated\n",
      "0.0                      0                                     36443\n",
      "                         1                                       215\n",
      "1.0                      1                                      2898\n",
      "dtype: int64\n"
     ]
    }
   ],
   "source": [
    "classification_stats = train.groupby([\"Actiware classification\", \"Actiware classification calculated\"]).size()\n",
    "print(classification_stats)"
   ]
  },
  {
   "cell_type": "markdown",
   "metadata": {},
   "source": [
    "## Draw scatter plot from Apple Watch and Actiwatch"
   ]
  },
  {
   "cell_type": "code",
   "execution_count": 10,
   "metadata": {
    "scrolled": true
   },
   "outputs": [
    {
     "data": {
      "text/plain": [
       "<AxesSubplot:xlabel='Apple Watch ENMO', ylabel='Actiwatch activity counts'>"
      ]
     },
     "execution_count": 10,
     "metadata": {},
     "output_type": "execute_result"
    },
    {
     "data": {
      "image/png": "[encoded data removed]",
      "text/plain": [
       "<Figure size 432x288 with 1 Axes>"
      ]
     },
     "metadata": {
      "needs_background": "light"
     },
     "output_type": "display_data"
    }
   ],
   "source": [
    "train.plot.scatter(x='Apple Watch ENMO', y='Actiwatch activity counts')"
   ]
  },
  {
   "cell_type": "markdown",
   "metadata": {},
   "source": [
    "## Fit linear Regression Model"
   ]
  },
  {
   "cell_type": "code",
   "execution_count": 11,
   "metadata": {
    "scrolled": true
   },
   "outputs": [
    {
     "name": "stdout",
     "output_type": "stream",
     "text": [
      "The function of the regression line is:\n",
      "f(x) = 594 x + 0.07617\n"
     ]
    },
    {
     "data": {
      "image/png": "[encoded data removed]",
      "text/plain": [
       "<Figure size 432x288 with 1 Axes>"
      ]
     },
     "metadata": {
      "needs_background": "light"
     },
     "output_type": "display_data"
    }
   ],
   "source": [
    "# declare x and y for the model\n",
    "x = train['Apple Watch ENMO']\n",
    "y = train['Actiwatch activity counts']\n",
    "\n",
    "# fit linear model\n",
    "model = numpy.poly1d(numpy.polyfit(x, y, 1))\n",
    "\n",
    "# create linspace to draw scatter plot in next step\n",
    "line = numpy.linspace(0, 3.5, 1000)\n",
    "\n",
    "# scatter plot\n",
    "plt.scatter(x, y)\n",
    "\n",
    "# draw regression graph into plot\n",
    "plt.plot(line, model(line))\n",
    "\n",
    "plt.ylim([0, 900])\n",
    "\n",
    "print('The function of the regression line is:\\nf(x) =', str(model).strip())"
   ]
  },
  {
   "cell_type": "markdown",
   "metadata": {},
   "source": [
    "## Predict if sleep or awake for test data"
   ]
  },
  {
   "cell_type": "code",
   "execution_count": 12,
   "metadata": {
    "scrolled": false
   },
   "outputs": [
    {
     "data": {
      "text/html": [
       "<div>\n",
       "<style scoped>\n",
       "    .dataframe tbody tr th:only-of-type {\n",
       "        vertical-align: middle;\n",
       "    }\n",
       "\n",
       "    .dataframe tbody tr th {\n",
       "        vertical-align: top;\n",
       "    }\n",
       "\n",
       "    .dataframe thead th {\n",
       "        text-align: right;\n",
       "    }\n",
       "</style>\n",
       "<table border=\"1\" class=\"dataframe\">\n",
       "  <thead>\n",
       "    <tr style=\"text-align: right;\">\n",
       "      <th></th>\n",
       "      <th>Actiwatch activity counts</th>\n",
       "      <th>Actiware classification</th>\n",
       "      <th>Apple Watch ENMO</th>\n",
       "      <th>day</th>\n",
       "      <th>time</th>\n",
       "      <th>Predicted activity counts</th>\n",
       "      <th>Predicted Total Counts</th>\n",
       "    </tr>\n",
       "  </thead>\n",
       "  <tbody>\n",
       "    <tr>\n",
       "      <th>2452</th>\n",
       "      <td>0.0</td>\n",
       "      <td>0.0</td>\n",
       "      <td>0.091199</td>\n",
       "      <td>15</td>\n",
       "      <td>00:06:00</td>\n",
       "      <td>54.252731</td>\n",
       "      <td>386.609588</td>\n",
       "    </tr>\n",
       "    <tr>\n",
       "      <th>2453</th>\n",
       "      <td>0.0</td>\n",
       "      <td>0.0</td>\n",
       "      <td>0.046923</td>\n",
       "      <td>15</td>\n",
       "      <td>00:06:15</td>\n",
       "      <td>27.950603</td>\n",
       "      <td>297.585266</td>\n",
       "    </tr>\n",
       "    <tr>\n",
       "      <th>2454</th>\n",
       "      <td>0.0</td>\n",
       "      <td>0.0</td>\n",
       "      <td>1.130759</td>\n",
       "      <td>15</td>\n",
       "      <td>00:06:30</td>\n",
       "      <td>671.798239</td>\n",
       "      <td>2763.378105</td>\n",
       "    </tr>\n",
       "    <tr>\n",
       "      <th>2455</th>\n",
       "      <td>134.0</td>\n",
       "      <td>0.0</td>\n",
       "      <td>0.081660</td>\n",
       "      <td>15</td>\n",
       "      <td>00:06:45</td>\n",
       "      <td>48.585614</td>\n",
       "      <td>402.192923</td>\n",
       "    </tr>\n",
       "    <tr>\n",
       "      <th>2456</th>\n",
       "      <td>159.0</td>\n",
       "      <td>0.0</td>\n",
       "      <td>0.089497</td>\n",
       "      <td>15</td>\n",
       "      <td>00:07:00</td>\n",
       "      <td>53.241463</td>\n",
       "      <td>420.453007</td>\n",
       "    </tr>\n",
       "    <tr>\n",
       "      <th>2457</th>\n",
       "      <td>261.0</td>\n",
       "      <td>0.0</td>\n",
       "      <td>0.113026</td>\n",
       "      <td>15</td>\n",
       "      <td>00:07:15</td>\n",
       "      <td>67.218586</td>\n",
       "      <td>465.616506</td>\n",
       "    </tr>\n",
       "    <tr>\n",
       "      <th>2458</th>\n",
       "      <td>215.0</td>\n",
       "      <td>0.0</td>\n",
       "      <td>0.200720</td>\n",
       "      <td>15</td>\n",
       "      <td>00:07:30</td>\n",
       "      <td>119.312652</td>\n",
       "      <td>659.491211</td>\n",
       "    </tr>\n",
       "    <tr>\n",
       "      <th>2459</th>\n",
       "      <td>0.0</td>\n",
       "      <td>1.0</td>\n",
       "      <td>0.073109</td>\n",
       "      <td>15</td>\n",
       "      <td>00:07:45</td>\n",
       "      <td>43.506444</td>\n",
       "      <td>264.236630</td>\n",
       "    </tr>\n",
       "    <tr>\n",
       "      <th>2460</th>\n",
       "      <td>5.0</td>\n",
       "      <td>1.0</td>\n",
       "      <td>0.003322</td>\n",
       "      <td>15</td>\n",
       "      <td>00:08:00</td>\n",
       "      <td>2.049295</td>\n",
       "      <td>99.938463</td>\n",
       "    </tr>\n",
       "    <tr>\n",
       "      <th>2461</th>\n",
       "      <td>0.0</td>\n",
       "      <td>1.0</td>\n",
       "      <td>0.006975</td>\n",
       "      <td>15</td>\n",
       "      <td>00:08:15</td>\n",
       "      <td>4.219840</td>\n",
       "      <td>97.777026</td>\n",
       "    </tr>\n",
       "    <tr>\n",
       "      <th>2462</th>\n",
       "      <td>0.0</td>\n",
       "      <td>1.0</td>\n",
       "      <td>0.003314</td>\n",
       "      <td>15</td>\n",
       "      <td>00:08:30</td>\n",
       "      <td>2.044882</td>\n",
       "      <td>78.076432</td>\n",
       "    </tr>\n",
       "    <tr>\n",
       "      <th>2463</th>\n",
       "      <td>0.0</td>\n",
       "      <td>0.0</td>\n",
       "      <td>0.002471</td>\n",
       "      <td>15</td>\n",
       "      <td>00:08:45</td>\n",
       "      <td>1.544098</td>\n",
       "      <td>30.489464</td>\n",
       "    </tr>\n",
       "    <tr>\n",
       "      <th>2464</th>\n",
       "      <td>8.0</td>\n",
       "      <td>1.0</td>\n",
       "      <td>0.009971</td>\n",
       "      <td>15</td>\n",
       "      <td>00:09:00</td>\n",
       "      <td>5.999198</td>\n",
       "      <td>38.793606</td>\n",
       "    </tr>\n",
       "    <tr>\n",
       "      <th>2465</th>\n",
       "      <td>0.0</td>\n",
       "      <td>0.0</td>\n",
       "      <td>0.002216</td>\n",
       "      <td>15</td>\n",
       "      <td>00:09:15</td>\n",
       "      <td>1.392374</td>\n",
       "      <td>19.122356</td>\n",
       "    </tr>\n",
       "    <tr>\n",
       "      <th>2466</th>\n",
       "      <td>0.0</td>\n",
       "      <td>0.0</td>\n",
       "      <td>0.002488</td>\n",
       "      <td>15</td>\n",
       "      <td>00:09:30</td>\n",
       "      <td>1.554234</td>\n",
       "      <td>17.197783</td>\n",
       "    </tr>\n",
       "  </tbody>\n",
       "</table>\n",
       "</div>"
      ],
      "text/plain": [
       "      Actiwatch activity counts  Actiware classification  Apple Watch ENMO  \\\n",
       "2452                        0.0                      0.0          0.091199   \n",
       "2453                        0.0                      0.0          0.046923   \n",
       "2454                        0.0                      0.0          1.130759   \n",
       "2455                      134.0                      0.0          0.081660   \n",
       "2456                      159.0                      0.0          0.089497   \n",
       "2457                      261.0                      0.0          0.113026   \n",
       "2458                      215.0                      0.0          0.200720   \n",
       "2459                        0.0                      1.0          0.073109   \n",
       "2460                        5.0                      1.0          0.003322   \n",
       "2461                        0.0                      1.0          0.006975   \n",
       "2462                        0.0                      1.0          0.003314   \n",
       "2463                        0.0                      0.0          0.002471   \n",
       "2464                        8.0                      1.0          0.009971   \n",
       "2465                        0.0                      0.0          0.002216   \n",
       "2466                        0.0                      0.0          0.002488   \n",
       "\n",
       "      day      time  Predicted activity counts  Predicted Total Counts  \n",
       "2452   15  00:06:00                  54.252731              386.609588  \n",
       "2453   15  00:06:15                  27.950603              297.585266  \n",
       "2454   15  00:06:30                 671.798239             2763.378105  \n",
       "2455   15  00:06:45                  48.585614              402.192923  \n",
       "2456   15  00:07:00                  53.241463              420.453007  \n",
       "2457   15  00:07:15                  67.218586              465.616506  \n",
       "2458   15  00:07:30                 119.312652              659.491211  \n",
       "2459   15  00:07:45                  43.506444              264.236630  \n",
       "2460   15  00:08:00                   2.049295               99.938463  \n",
       "2461   15  00:08:15                   4.219840               97.777026  \n",
       "2462   15  00:08:30                   2.044882               78.076432  \n",
       "2463   15  00:08:45                   1.544098               30.489464  \n",
       "2464   15  00:09:00                   5.999198               38.793606  \n",
       "2465   15  00:09:15                   1.392374               19.122356  \n",
       "2466   15  00:09:30                   1.554234               17.197783  "
      ]
     },
     "execution_count": 12,
     "metadata": {},
     "output_type": "execute_result"
    }
   ],
   "source": [
    "# predict activity counts\n",
    "test['Predicted activity counts'] = model(test['Apple Watch ENMO'])\n",
    "\n",
    "# calculate total counts from prediction\n",
    "total_counts(test, 'Predicted activity counts', 'Predicted Total Counts')\n",
    "\n",
    "# print first 15 rows\n",
    "test.head(15)"
   ]
  },
  {
   "cell_type": "code",
   "execution_count": 13,
   "metadata": {
    "scrolled": false
   },
   "outputs": [
    {
     "data": {
      "text/html": [
       "<div>\n",
       "<style scoped>\n",
       "    .dataframe tbody tr th:only-of-type {\n",
       "        vertical-align: middle;\n",
       "    }\n",
       "\n",
       "    .dataframe tbody tr th {\n",
       "        vertical-align: top;\n",
       "    }\n",
       "\n",
       "    .dataframe thead th {\n",
       "        text-align: right;\n",
       "    }\n",
       "</style>\n",
       "<table border=\"1\" class=\"dataframe\">\n",
       "  <thead>\n",
       "    <tr style=\"text-align: right;\">\n",
       "      <th></th>\n",
       "      <th>Actiwatch activity counts</th>\n",
       "      <th>Actiware classification</th>\n",
       "      <th>Apple Watch ENMO</th>\n",
       "      <th>day</th>\n",
       "      <th>time</th>\n",
       "      <th>Predicted activity counts</th>\n",
       "      <th>Predicted Total Counts</th>\n",
       "      <th>Predicted wake</th>\n",
       "    </tr>\n",
       "  </thead>\n",
       "  <tbody>\n",
       "    <tr>\n",
       "      <th>2452</th>\n",
       "      <td>0.0</td>\n",
       "      <td>0.0</td>\n",
       "      <td>0.091199</td>\n",
       "      <td>15</td>\n",
       "      <td>00:06:00</td>\n",
       "      <td>54.252731</td>\n",
       "      <td>386.609588</td>\n",
       "      <td>1</td>\n",
       "    </tr>\n",
       "    <tr>\n",
       "      <th>2453</th>\n",
       "      <td>0.0</td>\n",
       "      <td>0.0</td>\n",
       "      <td>0.046923</td>\n",
       "      <td>15</td>\n",
       "      <td>00:06:15</td>\n",
       "      <td>27.950603</td>\n",
       "      <td>297.585266</td>\n",
       "      <td>1</td>\n",
       "    </tr>\n",
       "    <tr>\n",
       "      <th>2454</th>\n",
       "      <td>0.0</td>\n",
       "      <td>0.0</td>\n",
       "      <td>1.130759</td>\n",
       "      <td>15</td>\n",
       "      <td>00:06:30</td>\n",
       "      <td>671.798239</td>\n",
       "      <td>2763.378105</td>\n",
       "      <td>1</td>\n",
       "    </tr>\n",
       "    <tr>\n",
       "      <th>2455</th>\n",
       "      <td>134.0</td>\n",
       "      <td>0.0</td>\n",
       "      <td>0.081660</td>\n",
       "      <td>15</td>\n",
       "      <td>00:06:45</td>\n",
       "      <td>48.585614</td>\n",
       "      <td>402.192923</td>\n",
       "      <td>1</td>\n",
       "    </tr>\n",
       "    <tr>\n",
       "      <th>2456</th>\n",
       "      <td>159.0</td>\n",
       "      <td>0.0</td>\n",
       "      <td>0.089497</td>\n",
       "      <td>15</td>\n",
       "      <td>00:07:00</td>\n",
       "      <td>53.241463</td>\n",
       "      <td>420.453007</td>\n",
       "      <td>1</td>\n",
       "    </tr>\n",
       "    <tr>\n",
       "      <th>...</th>\n",
       "      <td>...</td>\n",
       "      <td>...</td>\n",
       "      <td>...</td>\n",
       "      <td>...</td>\n",
       "      <td>...</td>\n",
       "      <td>...</td>\n",
       "      <td>...</td>\n",
       "      <td>...</td>\n",
       "    </tr>\n",
       "    <tr>\n",
       "      <th>38351</th>\n",
       "      <td>0.0</td>\n",
       "      <td>0.0</td>\n",
       "      <td>0.134241</td>\n",
       "      <td>25</td>\n",
       "      <td>07:06:45</td>\n",
       "      <td>79.821508</td>\n",
       "      <td>405.943963</td>\n",
       "      <td>1</td>\n",
       "    </tr>\n",
       "    <tr>\n",
       "      <th>38352</th>\n",
       "      <td>0.0</td>\n",
       "      <td>0.0</td>\n",
       "      <td>0.143355</td>\n",
       "      <td>25</td>\n",
       "      <td>07:07:00</td>\n",
       "      <td>85.235407</td>\n",
       "      <td>424.605670</td>\n",
       "      <td>1</td>\n",
       "    </tr>\n",
       "    <tr>\n",
       "      <th>38353</th>\n",
       "      <td>0.0</td>\n",
       "      <td>0.0</td>\n",
       "      <td>0.176234</td>\n",
       "      <td>25</td>\n",
       "      <td>07:07:15</td>\n",
       "      <td>104.767029</td>\n",
       "      <td>489.882846</td>\n",
       "      <td>1</td>\n",
       "    </tr>\n",
       "    <tr>\n",
       "      <th>38354</th>\n",
       "      <td>0.0</td>\n",
       "      <td>0.0</td>\n",
       "      <td>0.100067</td>\n",
       "      <td>25</td>\n",
       "      <td>07:07:30</td>\n",
       "      <td>59.520459</td>\n",
       "      <td>313.399211</td>\n",
       "      <td>1</td>\n",
       "    </tr>\n",
       "    <tr>\n",
       "      <th>38355</th>\n",
       "      <td>0.0</td>\n",
       "      <td>0.0</td>\n",
       "      <td>0.078705</td>\n",
       "      <td>25</td>\n",
       "      <td>07:07:45</td>\n",
       "      <td>46.830763</td>\n",
       "      <td>258.544524</td>\n",
       "      <td>1</td>\n",
       "    </tr>\n",
       "  </tbody>\n",
       "</table>\n",
       "<p>6584 rows × 8 columns</p>\n",
       "</div>"
      ],
      "text/plain": [
       "       Actiwatch activity counts  Actiware classification  Apple Watch ENMO  \\\n",
       "2452                         0.0                      0.0          0.091199   \n",
       "2453                         0.0                      0.0          0.046923   \n",
       "2454                         0.0                      0.0          1.130759   \n",
       "2455                       134.0                      0.0          0.081660   \n",
       "2456                       159.0                      0.0          0.089497   \n",
       "...                          ...                      ...               ...   \n",
       "38351                        0.0                      0.0          0.134241   \n",
       "38352                        0.0                      0.0          0.143355   \n",
       "38353                        0.0                      0.0          0.176234   \n",
       "38354                        0.0                      0.0          0.100067   \n",
       "38355                        0.0                      0.0          0.078705   \n",
       "\n",
       "       day      time  Predicted activity counts  Predicted Total Counts  \\\n",
       "2452    15  00:06:00                  54.252731              386.609588   \n",
       "2453    15  00:06:15                  27.950603              297.585266   \n",
       "2454    15  00:06:30                 671.798239             2763.378105   \n",
       "2455    15  00:06:45                  48.585614              402.192923   \n",
       "2456    15  00:07:00                  53.241463              420.453007   \n",
       "...    ...       ...                        ...                     ...   \n",
       "38351   25  07:06:45                  79.821508              405.943963   \n",
       "38352   25  07:07:00                  85.235407              424.605670   \n",
       "38353   25  07:07:15                 104.767029              489.882846   \n",
       "38354   25  07:07:30                  59.520459              313.399211   \n",
       "38355   25  07:07:45                  46.830763              258.544524   \n",
       "\n",
       "       Predicted wake  \n",
       "2452                1  \n",
       "2453                1  \n",
       "2454                1  \n",
       "2455                1  \n",
       "2456                1  \n",
       "...               ...  \n",
       "38351               1  \n",
       "38352               1  \n",
       "38353               1  \n",
       "38354               1  \n",
       "38355               1  \n",
       "\n",
       "[6584 rows x 8 columns]"
      ]
     },
     "execution_count": 13,
     "metadata": {},
     "output_type": "execute_result"
    }
   ],
   "source": [
    "# classify\n",
    "test['Predicted wake'] = test.apply(lambda x: classify(x, 'Predicted Total Counts'), axis=1)\n",
    "\n",
    "test"
   ]
  },
  {
   "cell_type": "markdown",
   "metadata": {},
   "source": [
    "## Print statistics of classification"
   ]
  },
  {
   "cell_type": "code",
   "execution_count": 14,
   "metadata": {},
   "outputs": [
    {
     "name": "stdout",
     "output_type": "stream",
     "text": [
      "Actiware classification  Predicted wake\n",
      "0.0                      0                 5840\n",
      "                         1                  131\n",
      "1.0                      0                  275\n",
      "                         1                  338\n",
      "dtype: int64\n"
     ]
    }
   ],
   "source": [
    "classification_stats = test.groupby([\"Actiware classification\", \"Predicted wake\"]).size()\n",
    "print(classification_stats)\n",
    "\n",
    "# f1 precision recall"
   ]
  },
  {
   "cell_type": "markdown",
   "metadata": {},
   "source": [
    "### Confusion matrix"
   ]
  },
  {
   "cell_type": "code",
   "execution_count": 15,
   "metadata": {
    "scrolled": false
   },
   "outputs": [
    {
     "data": {
      "text/plain": [
       "<AxesSubplot:title={'center':'Confusion Matrix'}, xlabel='Predicted label', ylabel='True label'>"
      ]
     },
     "execution_count": 15,
     "metadata": {},
     "output_type": "execute_result"
    },
    {
     "data": {
      "image/png": "[encoded data removed]",
      "text/plain": [
       "<Figure size 720x504 with 2 Axes>"
      ]
     },
     "metadata": {
      "needs_background": "light"
     },
     "output_type": "display_data"
    }
   ],
   "source": [
    "from sklearn.metrics import confusion_matrix\n",
    "\n",
    "# create matrix\n",
    "conf_mat = confusion_matrix(test['Actiware classification'], test['Predicted wake'])\n",
    "\n",
    "# put matrix into data frame\n",
    "df_cm = pd.DataFrame(conf_mat, range(2), range(2))\n",
    "\n",
    "# plot matrix with blues color style\n",
    "plt.figure(figsize=(10,7))\n",
    "sns.set(font_scale=1.4) \n",
    "\n",
    "s = sns.heatmap(df_cm, annot=True, cmap='Blues', fmt='g')\n",
    "s.set(xlabel='Predicted label', ylabel='True label', title='Confusion Matrix')\n",
    "\n",
    "s"
   ]
  },
  {
   "cell_type": "markdown",
   "metadata": {},
   "source": [
    "### Accuracy, Precision, Recall, F1-score"
   ]
  },
  {
   "cell_type": "code",
   "execution_count": 16,
   "metadata": {},
   "outputs": [
    {
     "data": {
      "text/plain": [
       "0.720682302771855"
      ]
     },
     "execution_count": 16,
     "metadata": {},
     "output_type": "execute_result"
    }
   ],
   "source": [
    "from sklearn.metrics import precision_score\n",
    "# Precision\n",
    "precision_score(test['Actiware classification'], test['Predicted wake'])"
   ]
  }
 ],
 "metadata": {
  "kernelspec": {
   "display_name": "Python 3 (ipykernel)",
   "language": "python",
   "name": "python3"
  },
  "language_info": {
   "codemirror_mode": {
    "name": "ipython",
    "version": 3
   },
   "file_extension": ".py",
   "mimetype": "text/x-python",
   "name": "python",
   "nbconvert_exporter": "python",
   "pygments_lexer": "ipython3",
   "version": "3.10.6"
  }
 },
 "nbformat": 4,
 "nbformat_minor": 1
}