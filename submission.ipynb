{
 "cells": [
  {
   "cell_type": "code",
   "execution_count": 1,
   "metadata": {
    "collapsed": true,
    "pycharm": {
     "name": "#%%\n"
    }
   },
   "outputs": [],
   "source": [
    "import warnings\n",
    "warnings.filterwarnings('ignore')\n",
    "import seaborn as sns\n",
    "from preprocess import load_data, inform"
   ]
  },
  {
   "cell_type": "code",
   "execution_count": 2,
   "outputs": [
    {
     "name": "stdout",
     "output_type": "stream",
     "text": [
      "Loading cached files.\n"
     ]
    }
   ],
   "source": [
    "full, train, test, val = load_data()"
   ],
   "metadata": {
    "collapsed": false,
    "pycharm": {
     "name": "#%%\n"
    }
   }
  },
  {
   "cell_type": "code",
   "execution_count": 3,
   "outputs": [
    {
     "name": "stdout",
     "output_type": "stream",
     "text": [
      "Full data:\n",
      "Shape of data: (49312, 5)\n",
      "There are 91.30% 0 values in column 'Actiware classification'.\n",
      "There are 91.74 0 values in column 'Actiwatch activity counts'.\n",
      "Training data:\n",
      "Shape of data: (39209, 4)\n",
      "There are 92.63% 0 values in column 'Actiware classification'.\n",
      "There are 99.07 0 values in column 'Actiwatch activity counts'.\n",
      "Test data:\n",
      "Shape of data: (6543, 4)\n",
      "There are 90.63% 0 values in column 'Actiware classification'.\n",
      "There are 98.81 0 values in column 'Actiwatch activity counts'.\n",
      "Validation data:\n",
      "Shape of data: (2146, 4)\n",
      "There are 93.90% 0 values in column 'Actiware classification'.\n",
      "There are 98.93 0 values in column 'Actiwatch activity counts'.\n"
     ]
    }
   ],
   "source": [
    "print(\"Full data:\")\n",
    "inform(full)\n",
    "print(\"Training data:\")\n",
    "inform(train)\n",
    "print(\"Test data:\")\n",
    "inform(test)\n",
    "print(\"Validation data:\")\n",
    "inform(val)"
   ],
   "metadata": {
    "collapsed": false,
    "pycharm": {
     "name": "#%%\n"
    }
   }
  },
  {
   "cell_type": "code",
   "execution_count": 4,
   "outputs": [
    {
     "data": {
      "text/plain": "<seaborn.axisgrid.FacetGrid at 0x15280548ca0>"
     },
     "execution_count": 4,
     "metadata": {},
     "output_type": "execute_result"
    },
    {
     "data": {
      "text/plain": "<Figure size 360x360 with 1 Axes>",
      "image/png": "[encoded data removed]"
     },
     "metadata": {},
     "output_type": "display_data"
    }
   ],
   "source": [
    "sns.displot(full, x=\"Actiwatch activity counts\")"
   ],
   "metadata": {
    "collapsed": false,
    "pycharm": {
     "name": "#%%\n"
    }
   }
  },
  {
   "cell_type": "code",
   "execution_count": null,
   "outputs": [],
   "source": [],
   "metadata": {
    "collapsed": false,
    "pycharm": {
     "name": "#%%\n"
    }
   }
  }
 ],
 "metadata": {
  "kernelspec": {
   "display_name": "Python 3",
   "language": "python",
   "name": "python3"
  },
  "language_info": {
   "codemirror_mode": {
    "name": "ipython",
    "version": 2
   },
   "file_extension": ".py",
   "mimetype": "text/x-python",
   "name": "python",
   "nbconvert_exporter": "python",
   "pygments_lexer": "ipython2",
   "version": "2.7.6"
  }
 },
 "nbformat": 4,
 "nbformat_minor": 0
}